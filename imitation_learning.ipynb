{
 "cells": [
  {
   "cell_type": "code",
   "execution_count": null,
   "id": "585f3a9b-6aac-477c-a23a-1d394b9542fc",
   "metadata": {},
   "outputs": [],
   "source": [
    "# !git clone https://github.com/DLR-RM/stable-baselines3.git\n",
    "# %cd stable-baselines3/\n",
    "# !python setup.py install\n",
    "# %cd ..\n",
    "# !git clone https://github.com/HumanCompatibleAI/imitation.git\n",
    "# %cd imitation\n",
    "# !python setup.py install\n",
    "# %cd .."
   ]
  },
  {
   "cell_type": "code",
   "execution_count": null,
   "id": "4009d926-94b7-4d69-be64-cb1c543a3064",
   "metadata": {},
   "outputs": [],
   "source": [
    "# RESTART RUNTIME!!"
   ]
  },
  {
   "cell_type": "markdown",
   "id": "0611676b-d404-46b1-935a-9f23a793c1f0",
   "metadata": {},
   "source": [
    "Imitation Leaning experiments:\n",
    "\n",
    "Conclusion: BC works. Dagger better. "
   ]
  },
  {
   "cell_type": "code",
   "execution_count": null,
   "id": "a74ca088-01d6-4547-a472-0126a2d25889",
   "metadata": {},
   "outputs": [],
   "source": [
    "import gym\n",
    "import numpy as np\n",
    "from stable_baselines3 import PPO\n",
    "from stable_baselines3.common.evaluation import evaluate_policy\n",
    "from stable_baselines3.common.vec_env import DummyVecEnv\n",
    "from stable_baselines3.ppo import MlpPolicy\n",
    "\n",
    "from imitation.algorithms import bc\n",
    "from imitation.data import rollout\n",
    "from imitation.data.wrappers import RolloutInfoWrapper"
   ]
  },
  {
   "cell_type": "code",
   "execution_count": null,
   "id": "a484fd92-4206-45b6-932e-6fcbe384894a",
   "metadata": {},
   "outputs": [],
   "source": [
    "env = gym.make(\"CartPole-v1\")\n",
    "rng = np.random.default_rng(0)"
   ]
  },
  {
   "cell_type": "code",
   "execution_count": null,
   "id": "9e76a179-449a-48d0-ba50-ad2d7866abb7",
   "metadata": {},
   "outputs": [],
   "source": [
    "## Behavior Cloning (BC)"
   ]
  },
  {
   "cell_type": "code",
   "execution_count": null,
   "id": "e4b3fbb5-1c5b-4078-b5d4-269a7e98819f",
   "metadata": {},
   "outputs": [],
   "source": [
    "rng = np.random.default_rng(0)\n",
    "env = gym.make(\"CartPole-v1\")\n",
    "expert = PPO(policy=MlpPolicy, env=env)\n",
    "expert.learn(3000)"
   ]
  },
  {
   "cell_type": "code",
   "execution_count": null,
   "id": "4a33a2cf-13be-4c77-b9ef-7670ffc71937",
   "metadata": {},
   "outputs": [],
   "source": [
    "reward, _ = evaluate_policy(\n",
    "    expert.policy,  # type: ignore[arg-type]\n",
    "    env,\n",
    "    n_eval_episodes=1,\n",
    "    render=False,\n",
    ")\n",
    "print(f\"Reward of expert: {reward}\")"
   ]
  },
  {
   "cell_type": "code",
   "execution_count": null,
   "id": "bd5f3ecd-3525-42e9-97ad-e855fc93d6f6",
   "metadata": {},
   "outputs": [],
   "source": [
    "rollouts = rollout.rollout(\n",
    "    expert,\n",
    "    DummyVecEnv([lambda: RolloutInfoWrapper(env)]),\n",
    "    rollout.make_sample_until(min_timesteps=None, min_episodes=50),\n",
    "    rng=rng,\n",
    ")"
   ]
  },
  {
   "cell_type": "code",
   "execution_count": null,
   "id": "84559e1f-5d45-4a8f-a543-a14da9f64eb3",
   "metadata": {},
   "outputs": [],
   "source": [
    "transitions = rollout.flatten_trajectories(rollouts)"
   ]
  },
  {
   "cell_type": "code",
   "execution_count": null,
   "id": "189a2b3f-dfba-46f1-a2ff-85eb4465c212",
   "metadata": {},
   "outputs": [],
   "source": [
    "bc_trainer = bc.BC(\n",
    "    observation_space=env.observation_space,\n",
    "    action_space=env.action_space,\n",
    "    demonstrations=transitions,\n",
    "    rng=rng,\n",
    ")"
   ]
  },
  {
   "cell_type": "code",
   "execution_count": null,
   "id": "cdf6fc70-6a30-4a35-94c7-21b7a36f36a0",
   "metadata": {},
   "outputs": [],
   "source": [
    "bc_trainer.train(n_epochs=10)"
   ]
  },
  {
   "cell_type": "code",
   "execution_count": null,
   "id": "072fb8fe-b616-4452-a9a2-29f3bc8dafb7",
   "metadata": {},
   "outputs": [],
   "source": [
    "reward, _ = evaluate_policy(bc_trainer.policy, env, 50)\n",
    "print(\"Reward:\", reward)"
   ]
  },
  {
   "cell_type": "code",
   "execution_count": null,
   "id": "f3bfc287-766a-4294-b1c9-ce4f86f355b9",
   "metadata": {},
   "outputs": [],
   "source": [
    "### DAGGER Algorithm"
   ]
  },
  {
   "cell_type": "code",
   "execution_count": null,
   "id": "4721fd91-9879-48e6-840a-3d89b4e6471c",
   "metadata": {},
   "outputs": [],
   "source": [
    "import tempfile\n",
    "from imitation.algorithms.dagger import SimpleDAggerTrainer"
   ]
  },
  {
   "cell_type": "code",
   "execution_count": null,
   "id": "b1aff783-66b0-4cf0-b9d2-8458b7aaf047",
   "metadata": {},
   "outputs": [],
   "source": [
    "rng = np.random.default_rng(0)\n",
    "env = gym.make(\"CartPole-v1\")\n",
    "expert = PPO(policy=MlpPolicy, env=env)\n",
    "expert.learn(1000)\n",
    "venv = DummyVecEnv([lambda: gym.make(\"CartPole-v1\")])\n",
    "\n",
    "bc_trainer = bc.BC(\n",
    "    observation_space=env.observation_space,\n",
    "    action_space=env.action_space,\n",
    "    rng=rng,\n",
    ")"
   ]
  },
  {
   "cell_type": "code",
   "execution_count": null,
   "id": "2e7b3d15-8916-42b7-83aa-c28e95df9aa2",
   "metadata": {},
   "outputs": [],
   "source": [
    "with tempfile.TemporaryDirectory(prefix=\"dagger_example_\") as tmpdir:\n",
    "    print(tmpdir)\n",
    "    dagger_trainer = SimpleDAggerTrainer(\n",
    "        venv=venv,\n",
    "        scratch_dir=tmpdir,\n",
    "        expert_policy=expert,\n",
    "        bc_trainer=bc_trainer,\n",
    "        rng=rng,\n",
    "    )\n",
    "    dagger_trainer.train(2000)"
   ]
  },
  {
   "cell_type": "code",
   "execution_count": null,
   "id": "41d830cc-45fc-4f13-a3d0-9d77cf95f5bd",
   "metadata": {},
   "outputs": [],
   "source": [
    "reward, _ = evaluate_policy(dagger_trainer.policy, env, 10)\n",
    "print(\"Reward:\", reward)"
   ]
  },
  {
   "cell_type": "code",
   "execution_count": null,
   "id": "7f3cf805-ce92-4b4a-a37b-6f49b8f61318",
   "metadata": {},
   "outputs": [],
   "source": []
  }
 ],
 "metadata": {
  "kernelspec": {
   "display_name": "Python 3 (ipykernel)",
   "language": "python",
   "name": "python3"
  },
  "language_info": {
   "codemirror_mode": {
    "name": "ipython",
    "version": 3
   },
   "file_extension": ".py",
   "mimetype": "text/x-python",
   "name": "python",
   "nbconvert_exporter": "python",
   "pygments_lexer": "ipython3",
   "version": "3.8.12"
  }
 },
 "nbformat": 4,
 "nbformat_minor": 5
}
