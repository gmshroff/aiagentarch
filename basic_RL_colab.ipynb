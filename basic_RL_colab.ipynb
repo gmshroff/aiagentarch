{
  "nbformat": 4,
  "nbformat_minor": 0,
  "metadata": {
    "colab": {
      "provenance": []
    },
    "kernelspec": {
      "name": "python3",
      "display_name": "Python 3"
    },
    "accelerator": "GPU"
  },
  "cells": [
    {
      "metadata": {
        "id": "1XDvssQd64Pf"
      },
      "cell_type": "code",
      "source": [
        "!apt-get install -y xvfb python-opengl > /dev/null 2>&1"
      ],
      "execution_count": null,
      "outputs": []
    },
    {
      "metadata": {
        "id": "F5esgX013vPe"
      },
      "cell_type": "code",
      "source": [
        "!pip install gym[classic_control] pyvirtualdisplay > /dev/null 2>&1"
      ],
      "execution_count": null,
      "outputs": []
    },
    {
      "metadata": {
        "id": "Qbi2xaFo31Sj"
      },
      "cell_type": "code",
      "source": [
        "import gym\n",
        "import numpy as np\n",
        "import matplotlib.pyplot as plt\n",
        "from IPython import display as ipythondisplay"
      ],
      "execution_count": null,
      "outputs": []
    },
    {
      "metadata": {
        "id": "FGqXqJxoAsHG"
      },
      "cell_type": "code",
      "source": [
        "from pyvirtualdisplay import Display\n",
        "display = Display(visible=0, size=(400, 300))\n",
        "display.start()"
      ],
      "execution_count": null,
      "outputs": []
    },
    {
      "metadata": {
        "id": "6L4YayzR4FYj"
      },
      "cell_type": "code",
      "source": [
        "env = gym.make(\"CartPole-v0\")\n",
        "env.reset()\n",
        "prev_screen = env.render(mode='rgb_array')\n",
        "plt.imshow(prev_screen)\n",
        "\n",
        "for i in range(50):\n",
        "  action = env.action_space.sample()\n",
        "  obs, reward, done, info = env.step(action)\n",
        "  screen = env.render(mode='rgb_array')\n",
        "  \n",
        "  plt.imshow(screen)\n",
        "  print(i,done)\n",
        "  ipythondisplay.clear_output(wait=True)\n",
        "  ipythondisplay.display(plt.gcf())\n",
        "\n",
        "  if done:\n",
        "    break\n",
        "ipythondisplay.clear_output(wait=True)\n",
        "env.close()\n",
        "print(i,done)\n",
        "\n"
      ],
      "execution_count": null,
      "outputs": []
    },
    {
      "metadata": {
        "id": "xoantCmXAtSN"
      },
      "cell_type": "code",
      "source": [
        "display.stop()"
      ],
      "execution_count": null,
      "outputs": []
    },
    {
      "cell_type": "code",
      "source": [
        "!pip install --quiet stable_baselines3"
      ],
      "metadata": {
        "id": "oJFQP0WrP7ka"
      },
      "execution_count": null,
      "outputs": []
    },
    {
      "cell_type": "code",
      "source": [
        "from stable_baselines3 import A2C\n",
        "env = gym.make(\"CartPole-v1\")\n",
        "model = A2C(\"MlpPolicy\", env, verbose=1)\n",
        "model.learn(total_timesteps=20000)"
      ],
      "metadata": {
        "id": "ZkfG7wkcP5Yd"
      },
      "execution_count": null,
      "outputs": []
    },
    {
      "cell_type": "code",
      "source": [
        "display = Display(visible=0, size=(400, 300))\n",
        "display.start()"
      ],
      "metadata": {
        "id": "kvDT2751bp31"
      },
      "execution_count": null,
      "outputs": []
    },
    {
      "cell_type": "code",
      "source": [
        "vec_env = model.get_env()\n",
        "prev_screen = vec_env.render(mode='rgb_array')\n",
        "plt.imshow(prev_screen)\n",
        "obs = vec_env.reset()\n",
        "for i in range(1000):\n",
        "    action, _state = model.predict(obs, deterministic=True)\n",
        "    obs, reward, done, info = vec_env.step(action)\n",
        "    screen = vec_env.render(mode='rgb_array')\n",
        "    if done: break\n",
        "    plt.imshow(screen)\n",
        "    ipythondisplay.clear_output(wait=True)\n",
        "    ipythondisplay.display(plt.gcf())\n",
        "    print(i,done)"
      ],
      "metadata": {
        "id": "faPqSioXQ0BE"
      },
      "execution_count": null,
      "outputs": []
    }
  ]
}