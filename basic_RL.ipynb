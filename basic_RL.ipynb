{
 "cells": [
  {
   "cell_type": "code",
   "execution_count": null,
   "id": "8ed3dabe-f39d-4bdd-ad70-27a9c226df95",
   "metadata": {},
   "outputs": [],
   "source": [
    "import gym\n",
    "from stable_baselines3 import A2C,PPO"
   ]
  },
  {
   "cell_type": "code",
   "execution_count": null,
   "id": "11ec5d50-02bb-4883-92f1-d3fb75939ea1",
   "metadata": {},
   "outputs": [],
   "source": [
    "env = gym.make(\"CartPole-v1\")"
   ]
  },
  {
   "cell_type": "code",
   "execution_count": null,
   "id": "52bb01ce-b200-4793-9211-ddc2d8eb083c",
   "metadata": {},
   "outputs": [],
   "source": [
    "obs = env.reset()\n",
    "for i in range(1000):\n",
    "    action=env.action_space.sample()\n",
    "    obs, reward, done, info = env.step(action)\n",
    "    # env.render()\n",
    "    # if done: break\n",
    "print(i,done)"
   ]
  },
  {
   "cell_type": "code",
   "execution_count": null,
   "id": "16b4bf53-ee0c-4d14-8738-924e26efce54",
   "metadata": {
    "tags": []
   },
   "outputs": [],
   "source": [
    "model = PPO(\"MlpPolicy\", env, verbose=1)\n",
    "model.learn(total_timesteps=40000)"
   ]
  },
  {
   "cell_type": "code",
   "execution_count": null,
   "id": "c6f17d12-0733-432e-8c2b-985e75cdcc3d",
   "metadata": {},
   "outputs": [],
   "source": [
    "obs = env.reset()\n",
    "for i in range(1000):\n",
    "    action, _state = model.predict(obs, deterministic=True)\n",
    "    obs, reward, done, info = env.step(action)\n",
    "    env.render()\n",
    "    if done: break\n",
    "print(i,done)"
   ]
  },
  {
   "cell_type": "code",
   "execution_count": null,
   "id": "56cabd60-7d33-4f97-9bd3-cd795cfa19b3",
   "metadata": {},
   "outputs": [],
   "source": []
  }
 ],
 "metadata": {
  "kernelspec": {
   "display_name": "Python 3 (ipykernel)",
   "language": "python",
   "name": "python3"
  },
  "language_info": {
   "codemirror_mode": {
    "name": "ipython",
    "version": 3
   },
   "file_extension": ".py",
   "mimetype": "text/x-python",
   "name": "python",
   "nbconvert_exporter": "python",
   "pygments_lexer": "ipython3",
   "version": "3.8.12"
  }
 },
 "nbformat": 4,
 "nbformat_minor": 5
}
