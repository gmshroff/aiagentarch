{
 "cells": [
  {
   "cell_type": "code",
   "execution_count": 1,
   "id": "01c10260-6176-4aa0-8915-d4676cf899f7",
   "metadata": {},
   "outputs": [],
   "source": [
    "import import_ipynb\n",
    "import pandas as pd\n",
    "import numpy as np\n",
    "import torch\n",
    "from torch.utils.data import Dataset\n",
    "import pickle"
   ]
  },
  {
   "cell_type": "code",
   "execution_count": 2,
   "id": "5a8b3bd5-26ac-401c-a5e8-d79fef4462e1",
   "metadata": {},
   "outputs": [
    {
     "name": "stdout",
     "output_type": "stream",
     "text": [
      "importing Jupyter notebook from aiagentbase.ipynb\n"
     ]
    }
   ],
   "source": [
    "from aiagentbase import AIAgent,Controller,Memory,Perception,Actor"
   ]
  },
  {
   "cell_type": "code",
   "execution_count": 3,
   "id": "6cdce3cc-5e27-4b21-a775-23c4eb683b05",
   "metadata": {},
   "outputs": [],
   "source": [
    "agent=AIAgent()"
   ]
  },
  {
   "cell_type": "code",
   "execution_count": 4,
   "id": "f8db1260-4969-4a36-872b-1c23ad4b1fc6",
   "metadata": {},
   "outputs": [],
   "source": [
    "agent.actor.intrinsic_reward_value=10"
   ]
  },
  {
   "cell_type": "code",
   "execution_count": 5,
   "id": "5ec5edad-f1d8-4daf-86bf-4f415ba2a031",
   "metadata": {},
   "outputs": [],
   "source": [
    "agent.debug=True"
   ]
  },
  {
   "cell_type": "code",
   "execution_count": 6,
   "id": "53b84509-bd7f-4344-91ef-4ecf54a1c5d4",
   "metadata": {},
   "outputs": [
    {
     "name": "stdout",
     "output_type": "stream",
     "text": [
      "{'percept': 'world_state_1'}\n",
      "add_percept: {0: {'percept': 'world_state_1'}}\n",
      "actor_state: world_state_1\n",
      "update_next_state: {-1: {'next_state': 'world_state_1'}}\n",
      "action: default_action\n",
      "update_reward_sar: {-1: {'next_state': 'world_state_1', 'reward': 10}}\n",
      "update_action_perceptual: {0: {'percept': 'world_state_1', 'action': 'default_action'}}\n",
      "add_state_action: {-1: {'next_state': 'world_state_1', 'reward': 10}, 0: {'state': 'world_state_1', 'action': 'default_action'}}\n"
     ]
    },
    {
     "data": {
      "text/plain": [
       "'default_action'"
      ]
     },
     "execution_count": 6,
     "metadata": {},
     "output_type": "execute_result"
    }
   ],
   "source": [
    "# agent.begin()\n",
    "agent.act('world_state_1')"
   ]
  },
  {
   "cell_type": "code",
   "execution_count": 7,
   "id": "a8485555-77f1-44dd-b290-5f49b56e9c46",
   "metadata": {},
   "outputs": [
    {
     "data": {
      "text/plain": [
       "{0: {'percept': 'world_state_1', 'action': 'default_action'}}"
      ]
     },
     "execution_count": 7,
     "metadata": {},
     "output_type": "execute_result"
    }
   ],
   "source": [
    "agent.memory.perceptual_memory"
   ]
  },
  {
   "cell_type": "code",
   "execution_count": 8,
   "id": "b23bbbd5-cc2d-4aac-b5cd-cee8e69eacbf",
   "metadata": {},
   "outputs": [
    {
     "data": {
      "text/plain": [
       "{-1: {'next_state': 'world_state_1', 'reward': 10},\n",
       " 0: {'state': 'world_state_1', 'action': 'default_action'}}"
      ]
     },
     "execution_count": 8,
     "metadata": {},
     "output_type": "execute_result"
    }
   ],
   "source": [
    "agent.memory.sar_memory"
   ]
  },
  {
   "cell_type": "code",
   "execution_count": 9,
   "id": "6118a5ea-eba1-4107-b827-094d7898bd03",
   "metadata": {},
   "outputs": [
    {
     "name": "stdout",
     "output_type": "stream",
     "text": [
      "update_reward_perceptual: {0: {'percept': 'world_state_1', 'action': 'default_action', 'reward': 300}}\n",
      "update_reward_sar: {-1: {'next_state': 'world_state_1', 'reward': 10}, 0: {'state': 'world_state_1', 'action': 'default_action', 'reward': 300}}\n"
     ]
    },
    {
     "data": {
      "text/plain": [
       "300"
      ]
     },
     "execution_count": 9,
     "metadata": {},
     "output_type": "execute_result"
    }
   ],
   "source": [
    "agent.reward(300)"
   ]
  },
  {
   "cell_type": "code",
   "execution_count": 10,
   "id": "6bcb9812-6ea6-4632-8f1a-d0957dcf26dc",
   "metadata": {},
   "outputs": [
    {
     "data": {
      "text/plain": [
       "{0: {'percept': 'world_state_1', 'action': 'default_action', 'reward': 300}}"
      ]
     },
     "execution_count": 10,
     "metadata": {},
     "output_type": "execute_result"
    }
   ],
   "source": [
    "agent.memory.perceptual_memory"
   ]
  },
  {
   "cell_type": "code",
   "execution_count": 11,
   "id": "364782d3-e034-49cc-a29d-cdd38c385ea0",
   "metadata": {},
   "outputs": [
    {
     "data": {
      "text/plain": [
       "{-1: {'next_state': 'world_state_1', 'reward': 10},\n",
       " 0: {'state': 'world_state_1', 'action': 'default_action', 'reward': 300}}"
      ]
     },
     "execution_count": 11,
     "metadata": {},
     "output_type": "execute_result"
    }
   ],
   "source": [
    "agent.memory.sar_memory"
   ]
  },
  {
   "cell_type": "code",
   "execution_count": 12,
   "id": "09642a27-9466-477d-b3ac-bba17a647746",
   "metadata": {},
   "outputs": [
    {
     "name": "stdout",
     "output_type": "stream",
     "text": [
      "{'percept': 'world_state_2'}\n",
      "add_percept: {0: {'percept': 'world_state_1', 'action': 'default_action', 'reward': 300}, 1: {'percept': 'world_state_2'}}\n",
      "actor_state: world_state_2\n",
      "update_next_state: {-1: {'next_state': 'world_state_1', 'reward': 10}, 0: {'state': 'world_state_1', 'action': 'default_action', 'reward': 300, 'next_state': 'world_state_2'}}\n",
      "action: default_action\n",
      "update_reward_sar: {-1: {'next_state': 'world_state_1', 'reward': 10}, 0: {'state': 'world_state_1', 'action': 'default_action', 'reward': 310, 'next_state': 'world_state_2'}}\n",
      "update_action_perceptual: {0: {'percept': 'world_state_1', 'action': 'default_action', 'reward': 300}, 1: {'percept': 'world_state_2', 'action': 'default_action'}}\n",
      "add_state_action: {-1: {'next_state': 'world_state_1', 'reward': 10}, 0: {'state': 'world_state_1', 'action': 'default_action', 'reward': 310, 'next_state': 'world_state_2'}, 1: {'state': 'world_state_2', 'action': 'default_action'}}\n",
      "update_reward_perceptual: {0: {'percept': 'world_state_1', 'action': 'default_action', 'reward': 300}, 1: {'percept': 'world_state_2', 'action': 'default_action', 'reward': 100}}\n",
      "update_reward_sar: {-1: {'next_state': 'world_state_1', 'reward': 10}, 0: {'state': 'world_state_1', 'action': 'default_action', 'reward': 310, 'next_state': 'world_state_2'}, 1: {'state': 'world_state_2', 'action': 'default_action', 'reward': 100}}\n"
     ]
    },
    {
     "data": {
      "text/plain": [
       "100"
      ]
     },
     "execution_count": 12,
     "metadata": {},
     "output_type": "execute_result"
    }
   ],
   "source": [
    "agent.act('world_state_2')\n",
    "agent.reward(100)"
   ]
  },
  {
   "cell_type": "code",
   "execution_count": 13,
   "id": "1027e867-504e-4485-983b-44e68d094049",
   "metadata": {},
   "outputs": [
    {
     "data": {
      "text/plain": [
       "{0: {'percept': 'world_state_1', 'action': 'default_action', 'reward': 300},\n",
       " 1: {'percept': 'world_state_2', 'action': 'default_action', 'reward': 100}}"
      ]
     },
     "execution_count": 13,
     "metadata": {},
     "output_type": "execute_result"
    }
   ],
   "source": [
    "agent.memory.perceptual_memory"
   ]
  },
  {
   "cell_type": "code",
   "execution_count": 14,
   "id": "9793367c-62b1-4422-be6a-d8c73a779035",
   "metadata": {},
   "outputs": [
    {
     "data": {
      "text/plain": [
       "{-1: {'next_state': 'world_state_1', 'reward': 10},\n",
       " 0: {'state': 'world_state_1',\n",
       "  'action': 'default_action',\n",
       "  'reward': 310,\n",
       "  'next_state': 'world_state_2'},\n",
       " 1: {'state': 'world_state_2', 'action': 'default_action', 'reward': 100}}"
      ]
     },
     "execution_count": 14,
     "metadata": {},
     "output_type": "execute_result"
    }
   ],
   "source": [
    "agent.memory.sar_memory"
   ]
  },
  {
   "cell_type": "code",
   "execution_count": 15,
   "id": "014eaf32-3610-4c03-9126-48543ed6a829",
   "metadata": {},
   "outputs": [],
   "source": [
    "# agent.clear()"
   ]
  },
  {
   "cell_type": "code",
   "execution_count": 32,
   "id": "8ce33ad2-c635-484a-8041-4faac6a0f424",
   "metadata": {},
   "outputs": [
    {
     "data": {
      "text/plain": [
       "2"
      ]
     },
     "execution_count": 32,
     "metadata": {},
     "output_type": "execute_result"
    }
   ],
   "source": [
    "agent.time"
   ]
  },
  {
   "cell_type": "code",
   "execution_count": 10,
   "id": "3f5d9471-699d-4de0-b9a5-cd7af17ce327",
   "metadata": {},
   "outputs": [
    {
     "data": {
      "text/plain": [
       "[0]"
      ]
     },
     "execution_count": 10,
     "metadata": {},
     "output_type": "execute_result"
    }
   ],
   "source": [
    "agent.ep"
   ]
  },
  {
   "cell_type": "code",
   "execution_count": null,
   "id": "c2caf91a-789c-4d63-8263-af69d69f20b4",
   "metadata": {},
   "outputs": [],
   "source": []
  }
 ],
 "metadata": {
  "kernelspec": {
   "display_name": "Python 3 (ipykernel)",
   "language": "python",
   "name": "python3"
  },
  "language_info": {
   "codemirror_mode": {
    "name": "ipython",
    "version": 3
   },
   "file_extension": ".py",
   "mimetype": "text/x-python",
   "name": "python",
   "nbconvert_exporter": "python",
   "pygments_lexer": "ipython3",
   "version": "3.8.12"
  }
 },
 "nbformat": 4,
 "nbformat_minor": 5
}
