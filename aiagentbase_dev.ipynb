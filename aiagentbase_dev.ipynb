{
 "cells": [
  {
   "cell_type": "code",
   "execution_count": null,
   "id": "01c10260-6176-4aa0-8915-d4676cf899f7",
   "metadata": {},
   "outputs": [],
   "source": [
    "import import_ipynb\n",
    "import pandas as pd\n",
    "import numpy as np\n",
    "import torch\n",
    "from torch.utils.data import Dataset\n",
    "import pickle"
   ]
  },
  {
   "cell_type": "code",
   "execution_count": null,
   "id": "5a8b3bd5-26ac-401c-a5e8-d79fef4462e1",
   "metadata": {},
   "outputs": [],
   "source": [
    "from aiagentbase import AIAgent,Controller,Memory,Perception,Actor"
   ]
  },
  {
   "cell_type": "code",
   "execution_count": null,
   "id": "6cdce3cc-5e27-4b21-a775-23c4eb683b05",
   "metadata": {},
   "outputs": [],
   "source": [
    "agent=AIAgent()"
   ]
  },
  {
   "cell_type": "code",
   "execution_count": null,
   "id": "f8db1260-4969-4a36-872b-1c23ad4b1fc6",
   "metadata": {},
   "outputs": [],
   "source": [
    "agent.actor.intrinsic_reward_value=10"
   ]
  },
  {
   "cell_type": "code",
   "execution_count": null,
   "id": "5ec5edad-f1d8-4daf-86bf-4f415ba2a031",
   "metadata": {},
   "outputs": [],
   "source": [
    "agent.debug=True"
   ]
  },
  {
   "cell_type": "code",
   "execution_count": null,
   "id": "53b84509-bd7f-4344-91ef-4ecf54a1c5d4",
   "metadata": {},
   "outputs": [],
   "source": [
    "# agent.begin()\n",
    "agent.act('world_state_1')"
   ]
  },
  {
   "cell_type": "code",
   "execution_count": null,
   "id": "a8485555-77f1-44dd-b290-5f49b56e9c46",
   "metadata": {},
   "outputs": [],
   "source": [
    "agent.memory.perceptual_memory"
   ]
  },
  {
   "cell_type": "code",
   "execution_count": null,
   "id": "b23bbbd5-cc2d-4aac-b5cd-cee8e69eacbf",
   "metadata": {},
   "outputs": [],
   "source": [
    "agent.memory.sar_memory"
   ]
  },
  {
   "cell_type": "code",
   "execution_count": null,
   "id": "6118a5ea-eba1-4107-b827-094d7898bd03",
   "metadata": {},
   "outputs": [],
   "source": [
    "agent.reward(300)"
   ]
  },
  {
   "cell_type": "code",
   "execution_count": null,
   "id": "6bcb9812-6ea6-4632-8f1a-d0957dcf26dc",
   "metadata": {},
   "outputs": [],
   "source": [
    "agent.memory.perceptual_memory"
   ]
  },
  {
   "cell_type": "code",
   "execution_count": null,
   "id": "364782d3-e034-49cc-a29d-cdd38c385ea0",
   "metadata": {},
   "outputs": [],
   "source": [
    "agent.memory.sar_memory"
   ]
  },
  {
   "cell_type": "code",
   "execution_count": null,
   "id": "09642a27-9466-477d-b3ac-bba17a647746",
   "metadata": {},
   "outputs": [],
   "source": [
    "agent.act('world_state_2')\n",
    "agent.reward(100)"
   ]
  },
  {
   "cell_type": "code",
   "execution_count": null,
   "id": "1027e867-504e-4485-983b-44e68d094049",
   "metadata": {},
   "outputs": [],
   "source": [
    "agent.memory.perceptual_memory"
   ]
  },
  {
   "cell_type": "code",
   "execution_count": null,
   "id": "9793367c-62b1-4422-be6a-d8c73a779035",
   "metadata": {},
   "outputs": [],
   "source": [
    "agent.memory.sar_memory"
   ]
  },
  {
   "cell_type": "code",
   "execution_count": null,
   "id": "014eaf32-3610-4c03-9126-48543ed6a829",
   "metadata": {},
   "outputs": [],
   "source": [
    "# agent.clear()"
   ]
  },
  {
   "cell_type": "code",
   "execution_count": null,
   "id": "8ce33ad2-c635-484a-8041-4faac6a0f424",
   "metadata": {},
   "outputs": [],
   "source": [
    "agent.time"
   ]
  },
  {
   "cell_type": "code",
   "execution_count": null,
   "id": "3f5d9471-699d-4de0-b9a5-cd7af17ce327",
   "metadata": {},
   "outputs": [],
   "source": [
    "agent.ep"
   ]
  },
  {
   "cell_type": "code",
   "execution_count": null,
   "id": "21227456-512c-4c88-bbfe-2b2264286cf2",
   "metadata": {},
   "outputs": [],
   "source": [
    "agent.limit_memory=True\n",
    "agent.memory.limit_sar=1"
   ]
  },
  {
   "cell_type": "code",
   "execution_count": null,
   "id": "c2caf91a-789c-4d63-8263-af69d69f20b4",
   "metadata": {},
   "outputs": [],
   "source": [
    "for i in range(10):\n",
    "    agent.act('world_state'+str(i))\n",
    "    agent.reward(i%2+1)\n",
    "    print(agent.memory.sar_memory)\n",
    "    print('*****')"
   ]
  },
  {
   "cell_type": "code",
   "execution_count": null,
   "id": "d0bf7f55-ffbe-4091-bb00-226d2a21ea2a",
   "metadata": {},
   "outputs": [],
   "source": []
  }
 ],
 "metadata": {
  "kernelspec": {
   "display_name": "Python 3 (ipykernel)",
   "language": "python",
   "name": "python3"
  },
  "language_info": {
   "codemirror_mode": {
    "name": "ipython",
    "version": 3
   },
   "file_extension": ".py",
   "mimetype": "text/x-python",
   "name": "python",
   "nbconvert_exporter": "python",
   "pygments_lexer": "ipython3",
   "version": "3.8.12"
  }
 },
 "nbformat": 4,
 "nbformat_minor": 5
}
