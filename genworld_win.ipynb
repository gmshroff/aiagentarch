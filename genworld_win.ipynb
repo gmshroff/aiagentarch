{
 "cells": [
  {
   "cell_type": "code",
   "execution_count": null,
   "id": "80c13fa2-7af9-43b2-95c4-0b19fd23e95e",
   "metadata": {},
   "outputs": [],
   "source": [
    "# !pip install --quiet stable_baselines3\n",
    "# !pip install --quiet import_ipynb\n",
    "# !git clone https://github.com/gmshroff/aiagentarch.git\n",
    "# %cd aiagentarch"
   ]
  },
  {
   "cell_type": "code",
   "execution_count": null,
   "id": "d0e8289f-e2f8-43d4-bfd4-b0913edf0f29",
   "metadata": {},
   "outputs": [],
   "source": [
    "import gym\n",
    "from gym import spaces\n",
    "from gym import Env\n",
    "import random\n",
    "import numpy as np\n",
    "from threading import Thread\n",
    "import threading\n",
    "from stable_baselines3 import PPO\n",
    "from stable_baselines3.common.vec_env import DummyVecEnv,VecFrameStack,StackedObservations\n",
    "from stable_baselines3.common.monitor import Monitor as Mon"
   ]
  },
  {
   "cell_type": "code",
   "execution_count": null,
   "id": "dd282224-20ee-4bb0-85e8-82a65cb6538a",
   "metadata": {},
   "outputs": [],
   "source": [
    "# for thread in threading.enumerate(): \n",
    "#     print(thread.name)"
   ]
  },
  {
   "cell_type": "code",
   "execution_count": null,
   "id": "1f55b243-bf59-4ac8-93c8-e001b25737b6",
   "metadata": {
    "tags": []
   },
   "outputs": [],
   "source": [
    "# for thread in threading.enumerate(): \n",
    "#     print(thread.name)"
   ]
  },
  {
   "cell_type": "markdown",
   "id": "67e0c3d3-6686-4413-b5be-f9bd31ad73ab",
   "metadata": {},
   "source": [
    "### Agent-based RL in Simple Worlds with windowing and Meta-RL\n",
    "\n",
    "- using window of states in case where velocity is masked\n",
    "- can use meta-RL: **TBD test with varying physics in a CL setting**"
   ]
  },
  {
   "cell_type": "code",
   "execution_count": null,
   "id": "72d807a9-feba-4fbe-bc32-9b405ff67844",
   "metadata": {},
   "outputs": [],
   "source": [
    "class MaskedPole(Env):\n",
    "    def __init__(self):\n",
    "        super().__init__()\n",
    "        self.env=gym.make('CartPole-v1')\n",
    "        self.action_space=self.env.action_space\n",
    "        self.observation_space=self.env.observation_space\n",
    "    def reset(self):\n",
    "        obs=self.env.reset()\n",
    "        # print(obs)\n",
    "        obs[1]=0\n",
    "        obs[3]=0\n",
    "        return obs\n",
    "    def step(self,action):\n",
    "        obs, rewards, dones, info = self.env.step(action)\n",
    "        # print(obs)\n",
    "        obs[1]=0\n",
    "        obs[3]=0\n",
    "        return obs, rewards, dones, info\n",
    "    def render(self,mode=\"human\"):\n",
    "        self.env.render()"
   ]
  },
  {
   "cell_type": "code",
   "execution_count": null,
   "id": "a22bdc97-6e73-4c6f-80c7-55e3bf56e3eb",
   "metadata": {},
   "outputs": [],
   "source": [
    "env = MaskedPole()"
   ]
  },
  {
   "cell_type": "code",
   "execution_count": null,
   "id": "d8a05b59-5fb3-4c72-b8ff-00265c75221e",
   "metadata": {},
   "outputs": [],
   "source": [
    "env = gym.make(\"CartPole-v1\")"
   ]
  },
  {
   "cell_type": "code",
   "execution_count": null,
   "id": "a6517152-bd6d-4d36-a5b6-a8b95f2d100c",
   "metadata": {},
   "outputs": [],
   "source": [
    "import import_ipynb\n",
    "from aiagentbase import AIAgent,Controller,Memory,Perception,Actor"
   ]
  },
  {
   "cell_type": "code",
   "execution_count": null,
   "id": "20e9f4fa-0689-4463-9fdf-48908932a18b",
   "metadata": {},
   "outputs": [],
   "source": [
    "class GenWorld():\n",
    "    def __init__(self,env):\n",
    "        self.env=env\n",
    "        self.test_episodes=[]\n",
    "        self.world_over=False\n",
    "    def stop(self):\n",
    "        self.world_over=True\n",
    "    def run(self,agent=None,n_episodes=10,episode_maxlen=10):\n",
    "        agent.observation_space=env.observation_space\n",
    "        if 'training' not in agent.__dict__: agent.training=False\n",
    "        if agent.training: testing=False \n",
    "        else: testing=True\n",
    "        if agent.training: print('Starting Training time: ',agent.time)\n",
    "        for episode in range(n_episodes):\n",
    "            # print('CartAgent','starting episode')\n",
    "            state=self.env.reset()\n",
    "            agent.begin()\n",
    "            # print(agent.time)#,agent.ep)\n",
    "            for t in range(episode_maxlen):\n",
    "                # env.render(mode='rgb_array')\n",
    "                action=agent.act(state)\n",
    "                # print(episode,t,'Action: ', action)\n",
    "                state, reward, done, info = env.step(action)\n",
    "                agent.reward((reward,done,info))\n",
    "                # print(episode,t,'Reward sent: ', reward)\n",
    "                if done:\n",
    "                    break\n",
    "            if self.world_over:break\n",
    "            if not agent.training: self.test_episodes+=[episode]\n",
    "            if not agent.training and not testing: \n",
    "                print('Training Over at time: ',agent.time)\n",
    "                testing=True\n",
    "                self.world_over=True\n",
    "        print('Testing Done time: ', agent.time, ' Reward: ', agent.avg_rew())\n",
    "        return agent.avg_rew()"
   ]
  },
  {
   "cell_type": "code",
   "execution_count": null,
   "id": "ec537ae8-fbf6-4c49-b16c-031b37228142",
   "metadata": {},
   "outputs": [],
   "source": [
    "#Doesnt use AIAgent Architecture Classes but implements the same interface - for initial testing\n",
    "class RandomAgent():\n",
    "    def __init__(self,action_space):\n",
    "        self.action_space=action_space\n",
    "        self.tot_rew=0\n",
    "        self.rewL=[]\n",
    "    def act(self,state):\n",
    "        action = self.action_space.sample()\n",
    "        return action\n",
    "    def reward(self,rew):\n",
    "        self.tot_rew+=rew[0]\n",
    "    def begin(self,state):\n",
    "        self.rewL+=[self.tot_rew]\n",
    "    def avg_rew(self):\n",
    "        return sum(self.rewL)/len(self.rewL)"
   ]
  },
  {
   "cell_type": "code",
   "execution_count": null,
   "id": "9a95733e-f863-432b-ac20-753d221e6fa9",
   "metadata": {},
   "outputs": [],
   "source": [
    "class RandomAIAgent(AIAgent):\n",
    "    def __init__(self,action_space):\n",
    "        super().__init__()\n",
    "        self.actor=self.Actor(parent=self)\n",
    "        self.action_space=action_space\n",
    "        self.tot_rew=0\n",
    "        self.rewL=[]\n",
    "        \n",
    "    class Actor(Actor):\n",
    "        def __init__(self,parent): \n",
    "            super().__init__(parent=parent)\n",
    "        def call_model(self,state):\n",
    "        ##Overriding AIAgent.Model\n",
    "            action = self.parent.action_space.sample()\n",
    "            return action\n",
    "        def compute_reward(self,reward):\n",
    "            return reward[0]\n",
    "    \n",
    "    def reward(self,rew):\n",
    "        ##Augmenting AIAgent\n",
    "        self.tot_rew+=rew[0]\n",
    "        return super().reward(rew)\n",
    "    def begin(self):\n",
    "        ##Augmenting AIAgent\n",
    "        self.rewL+=[self.tot_rew]\n",
    "        super().begin()\n",
    "    def avg_rew(self):\n",
    "        return sum(self.rewL)/len(self.rewL)"
   ]
  },
  {
   "cell_type": "code",
   "execution_count": null,
   "id": "d01edb66-b700-4f8b-a922-069b1de00c49",
   "metadata": {},
   "outputs": [],
   "source": [
    "agent=RandomAIAgent(env.action_space)\n",
    "agent.training=False"
   ]
  },
  {
   "cell_type": "code",
   "execution_count": null,
   "id": "9712783c-fd5a-420a-9b27-91f2c5a28e68",
   "metadata": {},
   "outputs": [],
   "source": [
    "agent.debug=False\n",
    "agent.use_memory=True"
   ]
  },
  {
   "cell_type": "code",
   "execution_count": null,
   "id": "c43d9c18-d92e-478a-8eff-dd68f0af3d10",
   "metadata": {},
   "outputs": [],
   "source": [
    "agent.limit_memory=True\n",
    "agent.memory.limit_perceptual=2\n",
    "agent.memory.limit_sar=4"
   ]
  },
  {
   "cell_type": "code",
   "execution_count": null,
   "id": "c30d921c-8d50-4e65-aed8-6f81caaee243",
   "metadata": {},
   "outputs": [],
   "source": [
    "world=GenWorld(env=env)"
   ]
  },
  {
   "cell_type": "code",
   "execution_count": null,
   "id": "7212bfc0-f260-4309-b12c-87e11fa70645",
   "metadata": {},
   "outputs": [],
   "source": [
    "agent.tot_rew,agent.rewL,agent.ep=0,[],[]"
   ]
  },
  {
   "cell_type": "code",
   "execution_count": null,
   "id": "24d0adf9-f667-49a4-a141-a60d9d595ebd",
   "metadata": {},
   "outputs": [],
   "source": [
    "worldthread=Thread(name='world',target=world.run,args=(agent,1000,200))"
   ]
  },
  {
   "cell_type": "code",
   "execution_count": null,
   "id": "f854c490-8ed2-4f50-9e46-8627525e843e",
   "metadata": {
    "tags": []
   },
   "outputs": [],
   "source": [
    "worldthread.start()"
   ]
  },
  {
   "cell_type": "code",
   "execution_count": null,
   "id": "5d2c948d-b588-48ac-8700-eb0c0155c90d",
   "metadata": {},
   "outputs": [],
   "source": [
    "agent.avg_rew()/len(agent.ep)"
   ]
  },
  {
   "cell_type": "code",
   "execution_count": null,
   "id": "b8644cbd-6139-491d-8f12-720a4b619e07",
   "metadata": {
    "tags": []
   },
   "outputs": [],
   "source": [
    "# world.run(agent,10,10)"
   ]
  },
  {
   "cell_type": "code",
   "execution_count": null,
   "id": "45180a22-fbfb-4982-b123-dd2ddbbe84d9",
   "metadata": {
    "tags": []
   },
   "outputs": [],
   "source": [
    "# agent.memory.perceptual_memory"
   ]
  },
  {
   "cell_type": "markdown",
   "id": "41e24475-66fc-4544-a0fe-20297b9246ac",
   "metadata": {},
   "source": [
    "### Training an AI Agent's Model using Generic RL Agent"
   ]
  },
  {
   "cell_type": "code",
   "execution_count": null,
   "id": "afefe229-241d-42fb-b5a2-0fe4b4f36c28",
   "metadata": {},
   "outputs": [],
   "source": [
    "from threading import Thread\n",
    "import threading\n",
    "import sys"
   ]
  },
  {
   "cell_type": "code",
   "execution_count": null,
   "id": "52cd9f07-62c7-4d48-af53-641fbe1ee17c",
   "metadata": {},
   "outputs": [],
   "source": [
    "from queue import Queue"
   ]
  },
  {
   "cell_type": "code",
   "execution_count": null,
   "id": "cae673aa-2a03-4f7e-b067-e22eb58846cc",
   "metadata": {},
   "outputs": [],
   "source": [
    "from aiagentbase import RLAgent"
   ]
  },
  {
   "cell_type": "code",
   "execution_count": null,
   "id": "7243708f-daf6-4305-a0b0-11fa82153781",
   "metadata": {},
   "outputs": [],
   "source": [
    "training_steps=50000"
   ]
  },
  {
   "cell_type": "code",
   "execution_count": null,
   "id": "7f938dfc-36bd-4e18-87c0-584c3c8c0f80",
   "metadata": {},
   "outputs": [],
   "source": [
    "agent=RLAgent(algoclass=PPO,monclass=Mon,action_space=env.action_space,observation_space=env.observation_space,\n",
    "              verbose=1,win=1,soclass=StackedObservations,metarl=False)"
   ]
  },
  {
   "cell_type": "code",
   "execution_count": null,
   "id": "44edef18-00b7-4098-96f8-01f51bccc195",
   "metadata": {},
   "outputs": [],
   "source": [
    "agent.debug=False\n",
    "agent.use_memory=True\n",
    "agent.training=True"
   ]
  },
  {
   "cell_type": "code",
   "execution_count": null,
   "id": "d1cce67f-0995-42fa-b1a1-1753133a37f6",
   "metadata": {},
   "outputs": [],
   "source": [
    "agent.rewL=[]\n",
    "agent.tot_rew=0\n",
    "agent.ep=[]"
   ]
  },
  {
   "cell_type": "code",
   "execution_count": null,
   "id": "e6fd4736-40ee-4be8-9d65-95804512b2d3",
   "metadata": {},
   "outputs": [],
   "source": [
    "if agent.training: agent.start(training_steps=training_steps)"
   ]
  },
  {
   "cell_type": "code",
   "execution_count": null,
   "id": "bb1e7d8e-eae8-43f4-98b2-28f652813c17",
   "metadata": {},
   "outputs": [],
   "source": [
    "world=GenWorld(env=env)"
   ]
  },
  {
   "cell_type": "code",
   "execution_count": null,
   "id": "825ee6db-c404-4453-a405-c2cf8c54804b",
   "metadata": {},
   "outputs": [],
   "source": [
    "# worldthread=Thread(name='world',target=world.run,args=(agent,2000,200))"
   ]
  },
  {
   "cell_type": "code",
   "execution_count": null,
   "id": "c295f9e2-c817-46d1-9078-c2135216f80b",
   "metadata": {
    "tags": []
   },
   "outputs": [],
   "source": [
    "# worldthread.start()"
   ]
  },
  {
   "cell_type": "code",
   "execution_count": null,
   "id": "86ab4c36-0aa9-44d5-bdb5-83d701f63faa",
   "metadata": {
    "tags": []
   },
   "outputs": [],
   "source": [
    "world.run(agent,n_episodes=2000,episode_maxlen=200)"
   ]
  },
  {
   "cell_type": "code",
   "execution_count": null,
   "id": "4b5ea674-7858-4611-bf7e-100934aceec0",
   "metadata": {},
   "outputs": [],
   "source": [
    "import pandas as pd\n",
    "df=pd.read_csv('/tmp/aiagents.monitor.csv',comment='#')"
   ]
  },
  {
   "cell_type": "code",
   "execution_count": null,
   "id": "d63c1bf6-9e95-4aa4-aa99-4153bb190396",
   "metadata": {
    "tags": []
   },
   "outputs": [],
   "source": [
    "import plotly.express as px\n",
    "px.line(df['r'].rolling(window=100).mean().values).show()"
   ]
  },
  {
   "cell_type": "code",
   "execution_count": null,
   "id": "54061a8f-0775-42ce-a95f-300931b2eb4f",
   "metadata": {
    "tags": []
   },
   "outputs": [],
   "source": [
    "# len(agent.logL)"
   ]
  },
  {
   "cell_type": "code",
   "execution_count": null,
   "id": "04b4a528-95bd-46df-89b5-24208287a20f",
   "metadata": {},
   "outputs": [],
   "source": [
    "from matplotlib import pyplot as plt"
   ]
  },
  {
   "cell_type": "code",
   "execution_count": null,
   "id": "ed44ee84-a7ee-4c78-a177-21f84f5243bf",
   "metadata": {},
   "outputs": [],
   "source": [
    "# testing_len=len([agent.rewL[t] for t in world.test_episodes])"
   ]
  },
  {
   "cell_type": "code",
   "execution_count": null,
   "id": "e554e4c8-2681-4bd6-b805-b708fa863ab4",
   "metadata": {},
   "outputs": [],
   "source": [
    "# testing_len"
   ]
  },
  {
   "cell_type": "code",
   "execution_count": null,
   "id": "6f1c83e7-4355-453e-84f0-fb8df19e141f",
   "metadata": {
    "tags": []
   },
   "outputs": [],
   "source": [
    "# agent.rewL"
   ]
  },
  {
   "cell_type": "code",
   "execution_count": null,
   "id": "b24174f7-ddec-495e-bd52-9612889571c2",
   "metadata": {},
   "outputs": [],
   "source": [
    "print(np.gradient(agent.rewL).mean())"
   ]
  },
  {
   "cell_type": "code",
   "execution_count": null,
   "id": "592b52fb-577e-4ebd-9b8d-d63b3c1680fb",
   "metadata": {},
   "outputs": [],
   "source": [
    "# plt.plot(np.gradient(agent.rewL))"
   ]
  },
  {
   "cell_type": "code",
   "execution_count": null,
   "id": "31b82967-748a-4909-9228-8d2de329388e",
   "metadata": {},
   "outputs": [],
   "source": [
    "episodes = 50\n",
    "rewL=[]\n",
    "agent.training=False\n",
    "for episode in range(1, episodes+1):\n",
    "    done = False\n",
    "    score = 0 \n",
    "    steps=0\n",
    "    state = env.reset()\n",
    "    while not done and steps<=1000:\n",
    "        action = agent.act(state)\n",
    "        state, reward, done, info = env.step(action)\n",
    "        # env.render()\n",
    "        score+=reward\n",
    "        steps+=1\n",
    "    # print('Episode:{} Score:{}'.format(episode, score))\n",
    "    rewL+=[score]\n",
    "env.close()"
   ]
  },
  {
   "cell_type": "code",
   "execution_count": null,
   "id": "12ee784d-2f75-4e2f-8f8c-91ae3b607cfa",
   "metadata": {},
   "outputs": [],
   "source": [
    "# from matplotlib import pyplot as plt\n",
    "# import numpy as np"
   ]
  },
  {
   "cell_type": "code",
   "execution_count": null,
   "id": "30e78bfe-2dda-4fe5-a39d-06c88022a710",
   "metadata": {},
   "outputs": [],
   "source": [
    "print(np.array(rewL).mean())"
   ]
  },
  {
   "cell_type": "code",
   "execution_count": null,
   "id": "26254efc-9de2-479c-95ec-d9a68f5ba5db",
   "metadata": {},
   "outputs": [],
   "source": [
    "plt.plot(rewL)"
   ]
  },
  {
   "cell_type": "code",
   "execution_count": null,
   "id": "5d0b11bb-5c03-4c58-9d83-29343655ddba",
   "metadata": {
    "tags": []
   },
   "outputs": [],
   "source": [
    "# PPO??"
   ]
  }
 ],
 "metadata": {
  "kernelspec": {
   "display_name": "Python 3 (ipykernel)",
   "language": "python",
   "name": "python3"
  },
  "language_info": {
   "codemirror_mode": {
    "name": "ipython",
    "version": 3
   },
   "file_extension": ".py",
   "mimetype": "text/x-python",
   "name": "python",
   "nbconvert_exporter": "python",
   "pygments_lexer": "ipython3",
   "version": "3.8.12"
  }
 },
 "nbformat": 4,
 "nbformat_minor": 5
}
