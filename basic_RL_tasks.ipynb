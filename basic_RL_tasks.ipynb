{
 "cells": [
  {
   "cell_type": "code",
   "execution_count": null,
   "id": "d6430cd7-619c-46c9-8e93-3cbf7da9b0d6",
   "metadata": {},
   "outputs": [],
   "source": [
    "# !pip3 install --upgrade setuptools==65.5.0\n",
    "# !pip install import_ipynb --quiet\n",
    "# !pip install --quiet stable_baselines3\n",
    "# !git clone https://github.com/gmshroff/aiagentarch.git\n",
    "# %cd aiagentarch"
   ]
  },
  {
   "cell_type": "code",
   "execution_count": null,
   "id": "8ed3dabe-f39d-4bdd-ad70-27a9c226df95",
   "metadata": {},
   "outputs": [],
   "source": [
    "import gym\n",
    "from stable_baselines3 import A2C,PPO\n",
    "import import_ipynb\n",
    "import numpy as np"
   ]
  },
  {
   "cell_type": "code",
   "execution_count": null,
   "id": "69251964-1eb4-44e3-aa4c-3754843131c9",
   "metadata": {},
   "outputs": [],
   "source": [
    "from cartpole_tasks import CartPoleEnv"
   ]
  },
  {
   "cell_type": "code",
   "execution_count": null,
   "id": "11ec5d50-02bb-4883-92f1-d3fb75939ea1",
   "metadata": {},
   "outputs": [],
   "source": [
    "env = CartPoleEnv()"
   ]
  },
  {
   "cell_type": "code",
   "execution_count": null,
   "id": "af20af4c-7af5-461f-97e0-afb71036ed36",
   "metadata": {},
   "outputs": [],
   "source": [
    "# env.length=4"
   ]
  },
  {
   "cell_type": "code",
   "execution_count": null,
   "id": "52bb01ce-b200-4793-9211-ddc2d8eb083c",
   "metadata": {},
   "outputs": [],
   "source": [
    "obs = env.reset()\n",
    "for i in range(10):\n",
    "    action=env.action_space.sample()\n",
    "    obs, reward, done, info = env.step(action)\n",
    "    # env.render()\n",
    "    if done: break\n",
    "print(i,done)"
   ]
  },
  {
   "cell_type": "code",
   "execution_count": null,
   "id": "16b4bf53-ee0c-4d14-8738-924e26efce54",
   "metadata": {
    "tags": []
   },
   "outputs": [],
   "source": [
    "# model = PPO(\"MlpPolicy\", env, verbose=0)\n",
    "model.learn(total_timesteps=30000)"
   ]
  },
  {
   "cell_type": "code",
   "execution_count": null,
   "id": "bde9b999-6585-43fc-9c23-5b4cbdec4567",
   "metadata": {},
   "outputs": [],
   "source": [
    "import torch\n",
    "torch.save(model.policy.state_dict(),'/tmp/Cartpole.pth')"
   ]
  },
  {
   "cell_type": "code",
   "execution_count": null,
   "id": "e308fa25-88cb-4b33-989e-a13026e0f89e",
   "metadata": {},
   "outputs": [],
   "source": [
    "import torch\n",
    "model.policy.load_state_dict(torch.load('/tmp/Cartpole.pth'))"
   ]
  },
  {
   "cell_type": "code",
   "execution_count": null,
   "id": "56cabd60-7d33-4f97-9bd3-cd795cfa19b3",
   "metadata": {},
   "outputs": [],
   "source": [
    "from tqdm.notebook import trange, tqdm\n",
    "def eval(env,model,trials=3):\n",
    "    total=0\n",
    "    print(env.length,env.gravity)\n",
    "    for e in trange(trials):\n",
    "        obs = env.reset()\n",
    "        for i in range(1000):\n",
    "            action, _state = model.predict(obs, deterministic=True)\n",
    "            obs, reward, done, info = env.step(action)\n",
    "            # env.render()\n",
    "            if done: break\n",
    "        total+=i\n",
    "    return total/trials"
   ]
  },
  {
   "cell_type": "code",
   "execution_count": null,
   "id": "7020576b-e1fa-48b3-9ab9-d2d0d75207a8",
   "metadata": {
    "tags": []
   },
   "outputs": [],
   "source": [
    "eval(env,model)"
   ]
  },
  {
   "cell_type": "code",
   "execution_count": null,
   "id": "539ed152-8d2e-467c-8c45-8ccfc2d4e2bd",
   "metadata": {
    "tags": []
   },
   "outputs": [],
   "source": [
    "perf={}\n",
    "for g in range(10,210,10):\n",
    "    perf[g]={}\n",
    "    for l4 in range(2,22):\n",
    "        env.length,env.gravity=l4/4,g\n",
    "        env.polemass_length = env.masspole * env.length\n",
    "        r=eval(env,model)\n",
    "        print(r)\n",
    "        perf[g][l4/4]=r"
   ]
  },
  {
   "cell_type": "code",
   "execution_count": null,
   "id": "7bf6a812-8a0d-41c0-8872-3efc35cb09c5",
   "metadata": {},
   "outputs": [],
   "source": [
    "# import pickle\n",
    "# with open('./perf.pickle','wb') as f: pickle.dump(perf,f)"
   ]
  },
  {
   "cell_type": "code",
   "execution_count": 59,
   "id": "35259f99-8264-486e-b9eb-ecc1d8f464d0",
   "metadata": {},
   "outputs": [],
   "source": [
    "with open('./perf.pickle','rb') as f: perf=pickle.load(f)"
   ]
  },
  {
   "cell_type": "code",
   "execution_count": 61,
   "id": "8137c400-d6b0-414c-85d9-91636408193d",
   "metadata": {
    "tags": []
   },
   "outputs": [],
   "source": [
    "h=np.zeros((20,20))\n",
    "i,j=0,0\n",
    "for g in range(10,210,10):\n",
    "    j=0\n",
    "    for l4 in range(2,22):\n",
    "        h[i][j]=perf[g][l4/4]\n",
    "        # print(i,j,g,l4/4,perf[g][l4/4])\n",
    "        j+=1\n",
    "    i+=1"
   ]
  },
  {
   "cell_type": "code",
   "execution_count": 62,
   "id": "1e3423da-13a3-40ed-8e47-8394b35d22c0",
   "metadata": {},
   "outputs": [
    {
     "data": {
      "image/png": "[encoded data removed]",
      "text/plain": [
       "<Figure size 432x288 with 1 Axes>"
      ]
     },
     "metadata": {
      "needs_background": "light"
     },
     "output_type": "display_data"
    }
   ],
   "source": [
    "import matplotlib.pyplot as plt\n",
    "plt.imshow(h, cmap='hot', interpolation='nearest')\n",
    "plt.show()"
   ]
  },
  {
   "cell_type": "code",
   "execution_count": 63,
   "id": "970d6252-c708-4a5a-8fc9-f2ee4971c9d0",
   "metadata": {},
   "outputs": [
    {
     "data": {
      "text/plain": [
       "{0.5: 999.0,\n",
       " 0.75: 999.0,\n",
       " 1.0: 999.0,\n",
       " 1.25: 999.0,\n",
       " 1.5: 999.0,\n",
       " 1.75: 999.0,\n",
       " 2.0: 999.0,\n",
       " 2.25: 999.0,\n",
       " 2.5: 999.0,\n",
       " 2.75: 999.0,\n",
       " 3.0: 999.0,\n",
       " 3.25: 682.3333333333334,\n",
       " 3.5: 674.0,\n",
       " 3.75: 25.666666666666668,\n",
       " 4.0: 25.0,\n",
       " 4.25: 26.0,\n",
       " 4.5: 26.666666666666668,\n",
       " 4.75: 27.333333333333332,\n",
       " 5.0: 27.666666666666668,\n",
       " 5.25: 27.666666666666668}"
      ]
     },
     "execution_count": 63,
     "metadata": {},
     "output_type": "execute_result"
    }
   ],
   "source": [
    "perf[10]"
   ]
  },
  {
   "cell_type": "code",
   "execution_count": 67,
   "id": "e14f8204-6a81-45a1-b016-0f449f7a937a",
   "metadata": {},
   "outputs": [
    {
     "data": {
      "text/plain": [
       "dict_keys([10, 20, 30, 40, 50, 60, 70, 80, 90, 100, 110, 120, 130, 140, 150, 160, 170, 180, 190, 200])"
      ]
     },
     "execution_count": 67,
     "metadata": {},
     "output_type": "execute_result"
    }
   ],
   "source": [
    "perf.keys()"
   ]
  },
  {
   "cell_type": "code",
   "execution_count": null,
   "id": "6e631476-bee7-4873-8a03-d9d7cf3e0075",
   "metadata": {},
   "outputs": [],
   "source": []
  }
 ],
 "metadata": {
  "kernelspec": {
   "display_name": "Python 3 (ipykernel)",
   "language": "python",
   "name": "python3"
  },
  "language_info": {
   "codemirror_mode": {
    "name": "ipython",
    "version": 3
   },
   "file_extension": ".py",
   "mimetype": "text/x-python",
   "name": "python",
   "nbconvert_exporter": "python",
   "pygments_lexer": "ipython3",
   "version": "3.8.12"
  }
 },
 "nbformat": 4,
 "nbformat_minor": 5
}
