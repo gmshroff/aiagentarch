{
 "cells": [
  {
   "cell_type": "code",
   "execution_count": null,
   "id": "44970139-af62-4c9c-9b1a-8d0feb3967e8",
   "metadata": {},
   "outputs": [],
   "source": [
    "import gym\n",
    "from gym import Env\n",
    "from stable_baselines3.common.vec_env import DummyVecEnv,VecFrameStack,StackedObservations\n",
    "from stable_baselines3 import A2C,PPO"
   ]
  },
  {
   "cell_type": "code",
   "execution_count": null,
   "id": "d759d234-7ea7-4fad-ae0a-878bf65a280f",
   "metadata": {
    "tags": []
   },
   "outputs": [],
   "source": [
    "VecFrameStack??"
   ]
  },
  {
   "cell_type": "code",
   "execution_count": null,
   "id": "47908ef0-2241-44b6-9e7f-7d850213e010",
   "metadata": {},
   "outputs": [],
   "source": [
    "def make_env():\n",
    "    return MaskedPole()\n",
    "    return gym.make('CartPole-v1')"
   ]
  },
  {
   "cell_type": "code",
   "execution_count": null,
   "id": "36f29741-22de-4a75-b7ff-10eaab8a8387",
   "metadata": {},
   "outputs": [],
   "source": [
    "class MaskedPole(Env):\n",
    "    def __init__(self):\n",
    "        super().__init__()\n",
    "        self.env=gym.make('CartPole-v1')\n",
    "        self.action_space=self.env.action_space\n",
    "        self.observation_space=self.env.observation_space\n",
    "        self.mask=False\n",
    "    def set_mask(self,value):\n",
    "        self.mask=value\n",
    "    def reset(self):\n",
    "        obs=self.env.reset()\n",
    "        # print(obs)\n",
    "        if self.mask: obs[1]=0\n",
    "        if self.mask: obs[3]=0\n",
    "        return obs\n",
    "    def step(self,action):\n",
    "        obs, rewards, dones, info = self.env.step(action)\n",
    "        # print(obs)\n",
    "        if self.mask: obs[1]=0\n",
    "        if self.mask: obs[3]=0\n",
    "        return obs, rewards, dones, info\n",
    "    def render(self,mode=\"human\"):\n",
    "        self.env.render()"
   ]
  },
  {
   "cell_type": "code",
   "execution_count": null,
   "id": "6efc42e7-db95-4dbf-b377-741134425e3e",
   "metadata": {
    "tags": []
   },
   "outputs": [],
   "source": [
    "# There already exists an environment generator\n",
    "# that will make and wrap atari environments correctly.\n",
    "# Here we are also multi-worker training (n_envs=4 => 4 environments)\n",
    "env = gym.make('CartPole-v1')\n",
    "# Frame-stacking with 4 frames\n",
    "# env = DummyVecEnv([lambda: MaskedPole()])\n",
    "# env = VecFrameStack(env, n_stack=4)\n",
    "model = PPO(\"MlpPolicy\", env, verbose=1)"
   ]
  },
  {
   "cell_type": "code",
   "execution_count": null,
   "id": "d8792454-e7b7-474c-a338-3ed259c6621d",
   "metadata": {},
   "outputs": [],
   "source": [
    "StackedObservations(1, 4, env.observation_space).stack_observation_space(env.observation_space)"
   ]
  },
  {
   "cell_type": "code",
   "execution_count": null,
   "id": "fb4b0161-aa85-436d-8db8-c5072cd945f5",
   "metadata": {},
   "outputs": [],
   "source": [
    "DummyVecEnv([lambda: MaskedPole()]).observation_space"
   ]
  },
  {
   "cell_type": "code",
   "execution_count": null,
   "id": "cac485f1-8aee-4e49-b870-50762c58cd9e",
   "metadata": {},
   "outputs": [],
   "source": [
    "# model.policy"
   ]
  },
  {
   "cell_type": "code",
   "execution_count": null,
   "id": "b29fef2d-640c-4621-910c-e18d4549c846",
   "metadata": {},
   "outputs": [],
   "source": [
    "env.env_method('set_mask',True)"
   ]
  },
  {
   "cell_type": "code",
   "execution_count": null,
   "id": "c0748fa4-b8d7-4f0a-8e96-dc0be9df2012",
   "metadata": {
    "tags": []
   },
   "outputs": [],
   "source": [
    "model.learn(total_timesteps=20000)"
   ]
  },
  {
   "cell_type": "code",
   "execution_count": null,
   "id": "017a7d3a-1f58-48b6-a987-5102891e036c",
   "metadata": {},
   "outputs": [],
   "source": [
    "obs = env.reset()\n",
    "# model.save(\"A2C_breakout\")\n",
    "episodes=0\n",
    "rew=0\n",
    "while episodes<100:\n",
    "    episodes+=1\n",
    "    done=False\n",
    "    env.reset()\n",
    "    while not done:\n",
    "        action, obs = model.predict(obs)\n",
    "        obs, rewards, done, info = env.step(action)\n",
    "        # print(rewards,done)\n",
    "        rew+=rewards\n",
    "    # env.render()\n",
    "print(rew/100)"
   ]
  },
  {
   "cell_type": "code",
   "execution_count": null,
   "id": "92737d08-7899-45f7-803b-7265e1045945",
   "metadata": {
    "tags": []
   },
   "outputs": [],
   "source": [
    "episodes=0\n",
    "rew=0\n",
    "while episodes<100:\n",
    "    episodes+=1\n",
    "    done=False\n",
    "    env.reset()\n",
    "    while not done:\n",
    "        action, obs = model.predict(obs)\n",
    "        obs, rewards, done, info = env.step(action)\n",
    "        # print(rewards,done)\n",
    "        rew+=rewards\n",
    "    # env.render()\n",
    "print(rew/100)"
   ]
  },
  {
   "cell_type": "code",
   "execution_count": null,
   "id": "1562881c-e6e2-4adc-9b22-9667c5935c9d",
   "metadata": {},
   "outputs": [],
   "source": [
    "rewards+1"
   ]
  },
  {
   "cell_type": "code",
   "execution_count": null,
   "id": "d62db9ba-acdd-430e-bc35-d3c4a01970cf",
   "metadata": {},
   "outputs": [],
   "source": [
    "obs[:,0]=0"
   ]
  },
  {
   "cell_type": "code",
   "execution_count": null,
   "id": "3dfe2e60-0322-403c-a40c-53082ef447b7",
   "metadata": {},
   "outputs": [],
   "source": [
    "obs"
   ]
  },
  {
   "cell_type": "code",
   "execution_count": null,
   "id": "e9394de7-82d8-4d02-8fe5-e0b1adcc7d5a",
   "metadata": {},
   "outputs": [],
   "source": []
  }
 ],
 "metadata": {
  "kernelspec": {
   "display_name": "Python 3 (ipykernel)",
   "language": "python",
   "name": "python3"
  },
  "language_info": {
   "codemirror_mode": {
    "name": "ipython",
    "version": 3
   },
   "file_extension": ".py",
   "mimetype": "text/x-python",
   "name": "python",
   "nbconvert_exporter": "python",
   "pygments_lexer": "ipython3",
   "version": "3.8.12"
  }
 },
 "nbformat": 4,
 "nbformat_minor": 5
}
