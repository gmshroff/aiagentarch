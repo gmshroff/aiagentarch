{
 "cells": [
  {
   "cell_type": "code",
   "execution_count": 2,
   "id": "01c10260-6176-4aa0-8915-d4676cf899f7",
   "metadata": {},
   "outputs": [],
   "source": [
    "import import_ipynb\n",
    "import pandas as pd\n",
    "import numpy as np\n",
    "import torch\n",
    "from torch.utils.data import Dataset\n",
    "import pickle"
   ]
  },
  {
   "cell_type": "code",
   "execution_count": 3,
   "id": "5a8b3bd5-26ac-401c-a5e8-d79fef4462e1",
   "metadata": {},
   "outputs": [
    {
     "name": "stdout",
     "output_type": "stream",
     "text": [
      "importing Jupyter notebook from aiagentbase.ipynb\n"
     ]
    }
   ],
   "source": [
    "from aiagentbase import AIAgent,Controller,Memory,Perception,Actor"
   ]
  },
  {
   "cell_type": "code",
   "execution_count": 4,
   "id": "6cdce3cc-5e27-4b21-a775-23c4eb683b05",
   "metadata": {},
   "outputs": [],
   "source": [
    "agent=AIAgent()"
   ]
  },
  {
   "cell_type": "code",
   "execution_count": 5,
   "id": "53b84509-bd7f-4344-91ef-4ecf54a1c5d4",
   "metadata": {},
   "outputs": [
    {
     "name": "stdout",
     "output_type": "stream",
     "text": [
      "world_state_2\n",
      "{0: {'default': {'percept': 'world_state_2'}}}\n",
      "world_state_2\n",
      "{-1: {'next_state': 'world_state_2'}}\n",
      "default_action\n",
      "{-1: {'next_state': 'world_state_2'}, 0: {'state': 'world_state_2', 'action': 'default_action'}}\n"
     ]
    }
   ],
   "source": [
    "agent.act('world_state_2')\n",
    "agent.reward(200)"
   ]
  },
  {
   "cell_type": "code",
   "execution_count": 6,
   "id": "6bcb9812-6ea6-4632-8f1a-d0957dcf26dc",
   "metadata": {},
   "outputs": [
    {
     "data": {
      "text/plain": [
       "{0: {'default': {'percept': 'world_state_2'}, 'reward': 200}}"
      ]
     },
     "execution_count": 6,
     "metadata": {},
     "output_type": "execute_result"
    }
   ],
   "source": [
    "agent.memory.perceptual_memory"
   ]
  },
  {
   "cell_type": "code",
   "execution_count": 7,
   "id": "364782d3-e034-49cc-a29d-cdd38c385ea0",
   "metadata": {},
   "outputs": [
    {
     "data": {
      "text/plain": [
       "{-1: {'next_state': 'world_state_2'},\n",
       " 0: {'state': 'world_state_2', 'action': 'default_action', 'reward': 200}}"
      ]
     },
     "execution_count": 7,
     "metadata": {},
     "output_type": "execute_result"
    }
   ],
   "source": [
    "agent.memory.sar_memory"
   ]
  },
  {
   "cell_type": "code",
   "execution_count": 121,
   "id": "09642a27-9466-477d-b3ac-bba17a647746",
   "metadata": {},
   "outputs": [],
   "source": [
    "agent.reward(100)"
   ]
  },
  {
   "cell_type": "code",
   "execution_count": 128,
   "id": "014eaf32-3610-4c03-9126-48543ed6a829",
   "metadata": {},
   "outputs": [],
   "source": [
    "agent.clear()"
   ]
  },
  {
   "cell_type": "code",
   "execution_count": 131,
   "id": "8ce33ad2-c635-484a-8041-4faac6a0f424",
   "metadata": {},
   "outputs": [
    {
     "data": {
      "text/plain": [
       "2"
      ]
     },
     "execution_count": 131,
     "metadata": {},
     "output_type": "execute_result"
    }
   ],
   "source": [
    "agent.time"
   ]
  },
  {
   "cell_type": "code",
   "execution_count": null,
   "id": "3f5d9471-699d-4de0-b9a5-cd7af17ce327",
   "metadata": {},
   "outputs": [],
   "source": []
  }
 ],
 "metadata": {
  "kernelspec": {
   "display_name": "Python 3 (ipykernel)",
   "language": "python",
   "name": "python3"
  },
  "language_info": {
   "codemirror_mode": {
    "name": "ipython",
    "version": 3
   },
   "file_extension": ".py",
   "mimetype": "text/x-python",
   "name": "python",
   "nbconvert_exporter": "python",
   "pygments_lexer": "ipython3",
   "version": "3.8.12"
  }
 },
 "nbformat": 4,
 "nbformat_minor": 5
}
